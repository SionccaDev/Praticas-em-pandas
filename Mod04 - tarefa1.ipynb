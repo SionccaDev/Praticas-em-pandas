{
 "cells": [
  {
   "cell_type": "markdown",
   "metadata": {},
   "source": [
    "# Tarefa \n",
    "\n",
    "#### 1)  crie uma série do pandas a partir de uma lista com os dados abaixo:\n",
    "\n",
    "Em um estudo sobre alteração na temperatura global, A NASA disponibiliza dados de diferenças de temperatura média da superfície terrestre relativos às médias de temperatura entre 1951 e 1980. Os dados originais podem ser vistos no site da NASA/GISS, e estão dispostos a cada década na tabela abaixo:\n",
    "\n",
    "|ano|anomalia termica|\n",
    "|:-:|:----:|\n",
    "| 1900 | -0.08 |\n",
    "| 1920 | -0.27 |\n",
    "| 1940 | 0.12 |\n",
    "| 1960 | -0.03 |\n",
    "| 1980 | 0.26 |\n",
    "| 2000 | 0.40 |\n",
    "| 2020 | 1.02 |\n",
    "\n",
    "Crie uma séries do Pandas a partir de uma lista com esses dados."
   ]
  },
  {
   "cell_type": "code",
   "execution_count": 36,
   "metadata": {},
   "outputs": [
    {
     "name": "stdout",
     "output_type": "stream",
     "text": [
      "0    1900\n",
      "1    1920\n",
      "2    1940\n",
      "3    1960\n",
      "4    1980\n",
      "5    2000\n",
      "6    2020\n",
      "dtype: int64\n",
      "\n",
      "\n",
      "0   -0.08\n",
      "1   -0.27\n",
      "2    0.12\n",
      "3   -0.03\n",
      "4    0.26\n",
      "5    0.40\n",
      "6    1.02\n",
      "dtype: float64\n"
     ]
    }
   ],
   "source": [
    "import pandas as pd\n",
    "import numpy as np\n",
    "\n",
    "lista_ano = [1900,1920,1940,1960,1980,2000,2020]\n",
    "lista_anomalia_termica = [-0.08,-0.27,0.12,-0.03,0.26,0.40,1.02]\n",
    "\n",
    "serie_ano = pd.Series(lista_ano)\n",
    "serie_anomalia_termica = pd.Series(lista_anomalia_termica)\n",
    "\n",
    "print(serie_ano)\n",
    "print('\\n')\n",
    "print(serie_anomalia_termica)"
   ]
  },
  {
   "cell_type": "markdown",
   "metadata": {},
   "source": [
    "#### 2) Coloque os anos nos índices conforme a tabela."
   ]
  },
  {
   "cell_type": "code",
   "execution_count": 42,
   "metadata": {},
   "outputs": [
    {
     "name": "stdout",
     "output_type": "stream",
     "text": [
      "1900   -0.08\n",
      "1920   -0.27\n",
      "1940    0.12\n",
      "1960   -0.03\n",
      "1980    0.26\n",
      "2000    0.40\n",
      "2020    1.02\n",
      "dtype: float64\n"
     ]
    }
   ],
   "source": [
    "serie_anomalia = pd.Series(lista_anomalia_termica, index=lista_ano)\n",
    "print(serie_anomalia)"
   ]
  },
  {
   "cell_type": "markdown",
   "metadata": {},
   "source": [
    "#### 3) A partir do dicionário abaixo, crie uma séries do Pandas:"
   ]
  },
  {
   "cell_type": "code",
   "execution_count": 46,
   "metadata": {},
   "outputs": [
    {
     "name": "stdout",
     "output_type": "stream",
     "text": [
      "1900   -0.08\n",
      "1920   -0.27\n",
      "1940    0.12\n",
      "1960   -0.03\n",
      "1980    0.26\n",
      "2000    0.40\n",
      "2020    1.02\n",
      "dtype: float64\n"
     ]
    }
   ],
   "source": [
    "dic_temperaturas = {1900: -.08, 1920: -.27, 1940: .12, 1960: -.03, 1980: .26, 2000: .40, 2020: 1.02}\n",
    "teste = pd.Series(dic_temperaturas)\n",
    "print(teste)"
   ]
  },
  {
   "cell_type": "markdown",
   "metadata": {},
   "source": [
    "#### 4) Transforme o ndarray abaixo em um dataframe. \n",
    "O numpy é capaz de gerar arrays n-dimensionais com números pseudo-aleatórios de acordo com uma variedade de distribuições, como no exemplo abaixo. Transforme esse nd-array em um DataFrame."
   ]
  },
  {
   "cell_type": "code",
   "execution_count": 67,
   "metadata": {},
   "outputs": [
    {
     "name": "stdout",
     "output_type": "stream",
     "text": [
      "[[103.54  98.93 111.2 ]\n",
      " [112.99 100.03 107.97]\n",
      " [107.15  91.92  81.32]\n",
      " [ 84.86 102.22  95.66]\n",
      " [ 99.89  91.78  85.48]\n",
      " [112.18 100.01 104.2 ]\n",
      " [ 96.52 104.37  91.18]\n",
      " [ 89.99 110.24  98.78]\n",
      " [ 94.45 100.71  87.2 ]\n",
      " [ 95.21  87.24 104.39]\n",
      " [ 91.38  92.39  90.16]\n",
      " [ 94.6   79.54  98.98]\n",
      " [ 96.73  94.02  83.83]\n",
      " [ 97.09  95.56 110.79]\n",
      " [ 88.94  94.99 103.78]\n",
      " [ 96.85  96.02 109.47]\n",
      " [112.77 104.77  95.33]\n",
      " [ 98.28 104.5   97.62]\n",
      " [ 81.64  96.66 105.05]\n",
      " [ 88.55  89.74 100.36]]\n"
     ]
    }
   ],
   "source": [
    "array = np.round(np.random.normal(100, 10, (20,3)),2)\n",
    "print(array)\n",
    "\n",
    "df_array = pd.DataFrame(array)"
   ]
  },
  {
   "cell_type": "markdown",
   "metadata": {},
   "source": [
    "#### 5) Nomeie os índices das linhas com inteiros de 1 a 20, e as colunas com os nomes \"x1\", \"x2\", e \"x3\" respectivamente."
   ]
  },
  {
   "cell_type": "code",
   "execution_count": 71,
   "metadata": {},
   "outputs": [
    {
     "name": "stdout",
     "output_type": "stream",
     "text": [
      "        x1      x2      x3\n",
      "1   103.54   98.93  111.20\n",
      "2   112.99  100.03  107.97\n",
      "3   107.15   91.92   81.32\n",
      "4    84.86  102.22   95.66\n",
      "5    99.89   91.78   85.48\n",
      "6   112.18  100.01  104.20\n",
      "7    96.52  104.37   91.18\n",
      "8    89.99  110.24   98.78\n",
      "9    94.45  100.71   87.20\n",
      "10   95.21   87.24  104.39\n",
      "11   91.38   92.39   90.16\n",
      "12   94.60   79.54   98.98\n",
      "13   96.73   94.02   83.83\n",
      "14   97.09   95.56  110.79\n",
      "15   88.94   94.99  103.78\n",
      "16   96.85   96.02  109.47\n",
      "17  112.77  104.77   95.33\n",
      "18   98.28  104.50   97.62\n",
      "19   81.64   96.66  105.05\n",
      "20   88.55   89.74  100.36\n"
     ]
    }
   ],
   "source": [
    "df_array_com_indices = pd.DataFrame(array, columns=['x1','x2','x3'], index=range(1,21))\n",
    "print(df_array_com_indices)"
   ]
  },
  {
   "cell_type": "markdown",
   "metadata": {},
   "source": [
    "#### 6) No DataFrame do exercício 5, crie uma nova coluna como sendo a média das três colunas, e dê a ela o nome de \"media\" (não recomendo colocar acentos em nomes de variáveis)."
   ]
  },
  {
   "cell_type": "code",
   "execution_count": 81,
   "metadata": {},
   "outputs": [
    {
     "name": "stdout",
     "output_type": "stream",
     "text": [
      "        x1      x2      x3       media\n",
      "1   103.54   98.93  111.20  104.556667\n",
      "2   112.99  100.03  107.97  106.996667\n",
      "3   107.15   91.92   81.32   93.463333\n",
      "4    84.86  102.22   95.66   94.246667\n",
      "5    99.89   91.78   85.48   92.383333\n",
      "6   112.18  100.01  104.20  105.463333\n",
      "7    96.52  104.37   91.18   97.356667\n",
      "8    89.99  110.24   98.78   99.670000\n",
      "9    94.45  100.71   87.20   94.120000\n",
      "10   95.21   87.24  104.39   95.613333\n",
      "11   91.38   92.39   90.16   91.310000\n",
      "12   94.60   79.54   98.98   91.040000\n",
      "13   96.73   94.02   83.83   91.526667\n",
      "14   97.09   95.56  110.79  101.146667\n",
      "15   88.94   94.99  103.78   95.903333\n",
      "16   96.85   96.02  109.47  100.780000\n",
      "17  112.77  104.77   95.33  104.290000\n",
      "18   98.28  104.50   97.62  100.133333\n",
      "19   81.64   96.66  105.05   94.450000\n",
      "20   88.55   89.74  100.36   92.883333\n"
     ]
    }
   ],
   "source": [
    "lista_medias = (df_array_com_indices['x1'] + df_array_com_indices['x2'] + df_array_com_indices['x3']) / 3\n",
    "df_array_com_indices['media'] = lista_medias\n",
    "print(df_array_com_indices)"
   ]
  },
  {
   "cell_type": "markdown",
   "metadata": {},
   "source": [
    "#### 7) No DataFrame do exercício 6, crie uma nova coluna chamada \"log_med\", contendo o logaritmo natural da média calculada no exercício 6 <br>"
   ]
  },
  {
   "cell_type": "code",
   "execution_count": 99,
   "metadata": {},
   "outputs": [
    {
     "name": "stdout",
     "output_type": "stream",
     "text": [
      "        x1      x2      x3       media   log_med\n",
      "1   103.54   98.93  111.20  104.556667  4.649729\n",
      "2   112.99  100.03  107.97  106.996667  4.672798\n",
      "3   107.15   91.92   81.32   93.463333  4.537569\n",
      "4    84.86  102.22   95.66   94.246667  4.545915\n",
      "5    99.89   91.78   85.48   92.383333  4.525947\n",
      "6   112.18  100.01  104.20  105.463333  4.658363\n",
      "7    96.52  104.37   91.18   97.356667  4.578381\n",
      "8    89.99  110.24   98.78   99.670000  4.601865\n",
      "9    94.45  100.71   87.20   94.120000  4.544571\n",
      "10   95.21   87.24  104.39   95.613333  4.560312\n",
      "11   91.38   92.39   90.16   91.310000  4.514260\n",
      "12   94.60   79.54   98.98   91.040000  4.511299\n",
      "13   96.73   94.02   83.83   91.526667  4.516630\n",
      "14   97.09   95.56  110.79  101.146667  4.616572\n",
      "15   88.94   94.99  103.78   95.903333  4.563341\n",
      "16   96.85   96.02  109.47  100.780000  4.612940\n",
      "17  112.77  104.77   95.33  104.290000  4.647175\n",
      "18   98.28  104.50   97.62  100.133333  4.606503\n",
      "19   81.64   96.66  105.05   94.450000  4.548071\n",
      "20   88.55   89.74  100.36   92.883333  4.531344\n",
      "\n",
      "\n",
      "               x1          x2          x3       media    log_med\n",
      "count   20.000000   20.000000   20.000000   20.000000  20.000000\n",
      "mean    97.180500   96.782000   98.137500   97.366667   4.577179\n",
      "std      8.903396    7.076496    9.208285    5.139137   0.052225\n",
      "min     81.640000   79.540000   81.320000   91.040000   4.511299\n",
      "25%     91.032500   92.272500   90.925000   93.318333   4.536013\n",
      "50%     96.625000   96.340000   98.880000   95.758333   4.561827\n",
      "75%    100.802500  101.087500  104.555000  100.871667   4.613848\n",
      "max    112.990000  110.240000  111.200000  106.996667   4.672798\n"
     ]
    }
   ],
   "source": [
    "lista_logaritmos = np.log(df_array_com_indices['media'])\n",
    "df_array_com_indices['log_med'] = lista_logaritmos\n",
    "print(df_array_com_indices)\n",
    "print('\\n')\n",
    "print(df_array_com_indices.describe())"
   ]
  },
  {
   "cell_type": "code",
   "execution_count": null,
   "metadata": {},
   "outputs": [],
   "source": []
  }
 ],
 "metadata": {
  "kernelspec": {
   "display_name": "Python 3 (ipykernel)",
   "language": "python",
   "name": "python3"
  },
  "language_info": {
   "codemirror_mode": {
    "name": "ipython",
    "version": 3
   },
   "file_extension": ".py",
   "mimetype": "text/x-python",
   "name": "python",
   "nbconvert_exporter": "python",
   "pygments_lexer": "ipython3",
   "version": "3.12.4"
  }
 },
 "nbformat": 4,
 "nbformat_minor": 4
}
